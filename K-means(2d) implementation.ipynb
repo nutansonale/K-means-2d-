{
 "cells": [
  {
   "cell_type": "markdown",
   "metadata": {},
   "source": [
    "# K-means implementation"
   ]
  },
  {
   "cell_type": "code",
   "execution_count": 9,
   "metadata": {},
   "outputs": [],
   "source": [
    "from random import seed\n",
    "from random import randint\n",
    "import numpy as np\n",
    "\n",
    "MAX_iterations=9\n",
    "def stopconditions(oc,ce,iterations):\n",
    "    if iterations>MAX_iterations: return True\n",
    "    return np.array_equal(oc,ce)\n",
    "\n",
    "def getRandomCentroids(k):\n",
    "    seed(1)\n",
    "    samp_data=np.array([[1,2]])\n",
    "    # generate some integers\n",
    "    for _ in range(k):\n",
    "        value1 = randint(0, 7)\n",
    "        value2 = randint(0, 7)\n",
    "        temp=np.array([[value1,value2]])\n",
    "        samp_data=np.concatenate((samp_data,temp))\n",
    "    samp_data=np.delete(samp_data,0,0)\n",
    "    return samp_data\n",
    "\n",
    "def ecludian(x1,y1,x2,y2):\n",
    "    return(((x1-x2)**2+(y1-y2)**2)**(1/2))\n",
    "\n",
    "def getLabels(data,centroids):\n",
    "    labels=np.array([-1])\n",
    "    \n",
    "    for j in range(len(data)):\n",
    "        temp=[]\n",
    "        for i in range(len(centroids)):\n",
    "            temp.append(ecludian(centroids[i][0],centroids[i][1],data[j][0],data[j][1]))\n",
    "        labels=np.concatenate((labels, np.array([temp.index(min(temp))]) ))\n",
    "    labels=np.delete(labels,0)\n",
    "    return(labels)\n",
    "\n",
    "\n",
    "def getIndexPositions(Elements, key):\n",
    "    indexPosList = []\n",
    "    indexPos = 0\n",
    "    while True:\n",
    "        try:\n",
    "            indexPos = Elements.index(key, indexPos)\n",
    "            indexPosList.append(indexPos)\n",
    "            indexPos += 1\n",
    "        except ValueError as e:\n",
    "            break\n",
    " \n",
    "    return indexPosList\n",
    "\n",
    "def getCentroids(data,labels,k):\n",
    "    \n",
    "    centroid=np.array([[0,0]])\n",
    "    for i in range(k):\n",
    "        ind=getIndexPositions(labels,i)\n",
    "        temp=np.array([[0,0]])\n",
    "        for j in ind:\n",
    "            temp=np.concatenate((temp,np.array([data[j]])))\n",
    "        \n",
    "        temp=np.delete(temp,0,0)\n",
    "        addx=sum(list(temp[:,0]))/len(temp)\n",
    "        addy=sum(list(temp[:,1]))/len(temp)\n",
    "        centroid=np.concatenate((centroid,np.array([[addx,addy]])))                         \n",
    "    centroid=np.delete(centroid,0,0)\n",
    "    return(centroid)\n",
    "\n",
    "def kmeans(dataSet, k):\n",
    "\n",
    "    # Initialize centroids randomly\n",
    "    centroids = getRandomCentroids(k)\n",
    "    \n",
    "    # Initialize book keeping vars.\n",
    "    iterations = 0\n",
    "    oldCentroids = None\n",
    "    \n",
    "    while not stopconditions(oldCentroids, centroids, iterations):\n",
    "        oldCentroids = centroids\n",
    "        iterations += 1\n",
    "        print(\"iteraion number \",iterations)\n",
    "        labels = getLabels(dataSet, centroids)\n",
    "        print('labels=',labels)\n",
    "        print('centroids=',centroids)\n",
    "        centroids = getCentroids(dataSet, list(labels), k)\n",
    "        \n",
    "    # We can get the labels too by calling getLabels(dataSet, centroids)\n",
    "    return centroids"
   ]
  },
  {
   "cell_type": "code",
   "execution_count": 10,
   "metadata": {},
   "outputs": [
    {
     "name": "stdout",
     "output_type": "stream",
     "text": [
      "iteraion number  1\n",
      "labels= [0 0 0 1 1 2 2]\n",
      "centroids= [[2 1]\n",
      " [4 1]\n",
      " [7 7]]\n",
      "iteraion number  2\n",
      "labels= [0 0 0 1 1 2 2]\n",
      "centroids= [[1.33333333 1.66666667]\n",
      " [6.5        2.        ]\n",
      " [6.5        6.        ]]\n",
      "the co-ordinates of the centroids are:\n",
      " [[1.33333333 1.66666667]\n",
      " [6.5        2.        ]\n",
      " [6.5        6.        ]]\n"
     ]
    }
   ],
   "source": [
    "centroids_ans=kmeans(np.array([[1,1],[1,2],[2,2],[6,2],[7,2],[6,6],[7,6]]),3)\n",
    "\n",
    "print(\"the co-ordinates of the centroids are:\\n\",centroids_ans)"
   ]
  },
  {
   "cell_type": "code",
   "execution_count": 8,
   "metadata": {},
   "outputs": [
    {
     "data": {
      "text/plain": [
       "<matplotlib.collections.PathCollection at 0x7f1eb12044f0>"
      ]
     },
     "execution_count": 8,
     "metadata": {},
     "output_type": "execute_result"
    },
    {
     "data": {
      "image/png": "[encoded data removed]",
      "text/plain": [
       "<Figure size 432x288 with 1 Axes>"
      ]
     },
     "metadata": {
      "needs_background": "light"
     },
     "output_type": "display_data"
    }
   ],
   "source": [
    "import matplotlib.pyplot as plt\n",
    "%matplotlib inline\n",
    "\n",
    "data=np.array([[1,1],[1,2],[2,2],[6,2],[7,2],[6,6],[7,6]])\n",
    "plt.scatter(data[:,0],data[:,1], label='True Position')\n",
    "plt.scatter(centroids_ans[:,0],centroids_ans[:,1])"
   ]
  }
 ],
 "metadata": {
  "kernelspec": {
   "display_name": "Python 3",
   "language": "python",
   "name": "python3"
  },
  "language_info": {
   "codemirror_mode": {
    "name": "ipython",
    "version": 3
   },
   "file_extension": ".py",
   "mimetype": "text/x-python",
   "name": "python",
   "nbconvert_exporter": "python",
   "pygments_lexer": "ipython3",
   "version": "3.8.2"
  }
 },
 "nbformat": 4,
 "nbformat_minor": 4
}
